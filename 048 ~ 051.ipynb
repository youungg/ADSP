{
 "cells": [
  {
   "cell_type": "markdown",
   "id": "8facbf4d-0324-49c7-b458-c146cdd72c96",
   "metadata": {},
   "source": [
    "# 48.분석 주제 유형\n",
    "* 분석의 대상(what) 및 분석의 방법(how)에 따라 4가지 유형으로 구분\n",
    "    * ① Optimization: 분석 대상 및 분석 방법을 이해하고 현 문제를 최적화의 형태로 수행\n",
    "    * ② Solution: 분석 과제는 수행되고, 분석 방법을 알지 못할 경우 솔루션을 찾는 방식으로 \n",
    "분석 과제수\n",
    "    * ③ Insight: 분석 대상이 불분명하고, 분석 방법을 알고 있는 경우 인사이트 도출\n",
    "    * ④ Discovery: 분석 대상, 방법을 모른다면 발견을 통하여 분석 대상 자체를 새롭게 도출\n",
    "</br></br>\n",
    "* 분석의 주제 및 기법의 특성상 이러한 4가지 유형은 서로 융합적으로 반복하게 됨\n",
    "\n",
    "#### 출제유형\n",
    "* 4가지 주제 유형 정의가 출제\n",
    "  행"
   ]
  },
  {
   "cell_type": "markdown",
   "id": "8b1d20e9-79d2-4dd4-a05a-8ea744d90285",
   "metadata": {},
   "source": [
    "# 49.목표 시점별 기획 방안\n",
    "* 과제 중심적인 접근 방식: 당면한 과제를 빠르게 해결\n",
    "* 장기적인 마스터플랜 방식: 지속적인 분석 내재화로 해결\n",
    "\n",
    "|면한 분석 주제 해결||지속적 분석문화 내재화|\n",
    "|-|-|-|\n",
    "|과제 단위||마스터플랜 단위|\n",
    "|speed & Test|< 1차 목표>|Accuracy &  Deploy|\n",
    "|Quick-win|<과제의 유형>|Long Term View|\n",
    "| Problem Solving|<접근 방식>|Problem Definition|\n",
    "\n",
    "#### 출제유형\n",
    "* 과제단위와 마스터플랜단위 구분 문제 출제"
   ]
  },
  {
   "cell_type": "markdown",
   "id": "fca364bf-7581-400e-b514-6e45fd8eeb1c",
   "metadata": {},
   "source": [
    "# 50.분석기획 시 고려사항\n",
    "* ① 가용한 데이터(Available Data)\n",
    "    * 데이터 유형에 따라서 적용 가능한 솔루션 및 분석 방법이 달라서 유형에 대한 분석이 선행적으로 이루어져야 한다.\n",
    "* ② 적절한 유스케이스(Proper Use-Case)\n",
    "    * 탐색 유사 분석 시나리오 및 솔루션이 있다면 이를 최대한 활용하는 것이 중요함\n",
    "* ③ 장애요소들에 대한 사전 계획 수립이 필요.\n",
    "\n",
    "#### 출제유형\n",
    "* 분석기획 시 고려사항 3가지 출제"
   ]
  },
  {
   "cell_type": "markdown",
   "id": "b93547d2-04a3-4b35-8cfc-bbb5f4582b2f",
   "metadata": {},
   "source": [
    "# 51.데이터 저장 방식\n",
    "\n",
    "|저장방식|특징|도구|\n",
    "|-|-|-|\n",
    "|RDB|• 관계형 데이터를 저장하거나 수정하고 관리할 수 있게 해주는 데이터베이스 </br></br> •SQL 문장을 통하여 데이터베이스의 생성, 수정 및 검색 등 서비스를 제공 |오라클, MSSQL, MySQL 등|\n",
    "|NoSQL|•NoSQL 데이터베이스 = 비관계형(비정형) 데이터베이스 관리 시스템 </br></br> • NoSQL은 빅데이터 분산처리 및 저장기술과 함께 발달된 분산 데이터베이스 기술로 확장성 및 가용성을 제공한다. </br></br> • 대용량 처리와 대규모의 수평적 확장성 제공한다.|몽고DB, 카산드라, HBase, 레디스|\n",
    "|HDFS|• HDFS 와 기존의 대용량 파일 시스템의 큰 차이점은 HDFS는 저사양 서버를 이용해 스토리지를 구성할 수 있다는 점입니다.</br></br> •  기존의 대용량 파일시스템 또는 데이터베이스를 구성하려면 고성능의 서버나 대용량의 외장 스토리지가 필요 하였으며 이러한 시스템은 웹 서버와 같은 서버에 비해 상당히 많은 비용이 발생되게 됩니다. 하지만 HDFS를 이용하면 수십 혹은 수백 대의 웹 서버급 서버나 저사양 서버를 묶어서 하나의 스토리지 처럼 사용할 수 있게 됩니다|HDFS 등|"
   ]
  },
  {
   "cell_type": "code",
   "execution_count": null,
   "id": "a63c53cf-7455-4c71-9068-44be71545cef",
   "metadata": {},
   "outputs": [],
   "source": []
  }
 ],
 "metadata": {
  "kernelspec": {
   "display_name": "Python 3 (ipykernel)",
   "language": "python",
   "name": "python3"
  },
  "language_info": {
   "codemirror_mode": {
    "name": "ipython",
    "version": 3
   },
   "file_extension": ".py",
   "mimetype": "text/x-python",
   "name": "python",
   "nbconvert_exporter": "python",
   "pygments_lexer": "ipython3",
   "version": "3.8.19"
  }
 },
 "nbformat": 4,
 "nbformat_minor": 5
}
