{
 "cells": [
  {
   "cell_type": "markdown",
   "id": "b507d1f0-7656-40d9-a9e8-88ee1097d635",
   "metadata": {},
   "source": [
    "# 11. 데이터베이스 설계순서\n",
    "① 요구조건 분석 </br></br>\n",
    "② 개념적 설계 (E-R 모델)</br></br>\n",
    "③ 논리적 설계 (테이블 설계)</br></br>\n",
    "④ 물리적 설계 (데이터 구조화)</br></br>\n",
    "\n",
    "#### 출제유형\n",
    "* 데이터베이스 설계순서 출제"
   ]
  },
  {
   "cell_type": "markdown",
   "id": "b94de341-df4e-4ff0-a21d-a355e3ef7723",
   "metadata": {},
   "source": [
    "# 12. 데이터베이스 특징\n",
    "① 통합된 데이터(intergrated Data) </br></br>\n",
    "② 저장된 데이터 (stored data)</br></br>\n",
    "③ 공용 데이터 (shared data)</br></br>\n",
    "④ 변화되는 데이터 (changed Data)</br></br>\n",
    "\n",
    "#### 출제유형\n",
    "* 4가지 특징 출제, 특히 데이터 웨어하우스 특징 과 구분이 포인트"
   ]
  },
  {
   "cell_type": "markdown",
   "id": "1fbd48d6-e5ae-4e26-bc1d-1c3d80001b4f",
   "metadata": {},
   "source": [
    "# 13. 데이터베이스 특성\n",
    "① 정보의 축적 및 전달 측면</br></br>\n",
    "② 정보이용 측면</br></br>\n",
    "③ 정보관리측면</br></br>\n",
    "④ 정보기술 발전 측면</br></br>\n",
    "⑤ 경제, 산업적 측면</br></br>\n",
    "\n",
    "#### 출제유형\n",
    "* 데이터베이스 특성출제"
   ]
  },
  {
   "cell_type": "markdown",
   "id": "389b65d3-fa1a-42ad-87ec-345ea209eb1d",
   "metadata": {},
   "source": [
    "# 14. OLTP vs OLAP\n",
    "## ① OLTP (On - Line Transaction Processing) \n",
    "* 네트워크상의 여러 이용자가 실시산으로 데이터베이스의 데이터를 갱신하거나 조회하는 등의 단위 작업을 처리하는 방식\n",
    "* ex) 은행에서 수많은 입출금 등이 일어날 때\n",
    "## ② OLAP (On- Line Analytic Processing)\n",
    "* 정보위주의 처리 분석을 의미\n",
    "* 의사 결정에 활용할 수 있는 정보를 얻을수 있게 해주는 기술\n",
    "* ex) 판매추이, 구매서성향파악, 재무회계 분석 등을 프로세싱하는 것\n",
    "\n",
    "#### 출제유형\n",
    "* 두 개념의 차이가 출제"
   ]
  },
  {
   "cell_type": "markdown",
   "id": "8a3998ad-c65a-4f31-ab99-b1f8913adad5",
   "metadata": {},
   "source": [
    "# 15. 데이터 웨어하우스 vs 데이터 마트\n",
    "* 데이터 마트(Data Mart, DM)는 데이터 웨어하우스(Data Warehouse, DW)환경에서 정의된 접근 계층으로, 데이터 웨어하우스에서 데이터를 꺼내 사용자에게 제공하는 역할을 함\n",
    "* 데이터 마트는 데이터 웨어하우스의 부분이며, 대개 특정한 조직, 혹은 팀에서 사용하는 것을 목적으로 함\n",
    "\n",
    "#### 출제유형\n",
    "* 데이터 마트와 데이터 웨어하우스의 개념 구분이 출제"
   ]
  },
  {
   "cell_type": "markdown",
   "id": "da191cfa-94f0-43c3-99d4-018111c9c1fa",
   "metadata": {},
   "source": [
    "# 16. 데이터웨어하우스 특징\n",
    "① 데이터의 주제지향성</br></br>\n",
    "② 데이터의 통합성</br></br>\n",
    "③ 데이터의 시계열성</br></br>\n",
    "④ 데이터의 비휘발성</br></br>\n",
    "\n",
    "#### 출제유형\n",
    "* 데이터웨어하우스와 데이터베이스의 특징 구분 문제 출제"
   ]
  },
  {
   "cell_type": "markdown",
   "id": "ba2af64b-2bf0-4e4c-ba00-334db9562ef9",
   "metadata": {},
   "source": [
    "# 17. CRM 과 SCM\n",
    "* 2000년대 들어서면서 기업 DB구축의 화두 CRM/SCM\n",
    "## ① CRM(Cunsumer Relationship Management)\n",
    "* 선별된 고객으로부터 수익을 창출하고 장기적인 고객관계를 가능케 함으로써 보다 높은 이익을 창출할 수 있는 솔루션</br></br>\n",
    "## ② 데이터의 통합성\n",
    "* 제조, 물류, 유통업체 등 유통 공급망에 참여하는 모든 업체가 협력을 바탕으로 정보기술을 활용, 재고를 최적화하기위한 솔루션\n",
    "</br></br>\n",
    "\n",
    "-> SCM과 SRM은 연동되기 때문에 상호 밀접한 관계\n",
    "-> 오늘날 CRM은 기존의 목적은 변화되지않고 방법론에서만 변화하고있음\n",
    "\n",
    "#### 출제유형\n",
    "* CRM과 SCM의 개념을 묻는 문제 출제"
   ]
  },
  {
   "cell_type": "markdown",
   "id": "64498d7a-ed8c-439c-a29c-2fe067e0de46",
   "metadata": {},
   "source": [
    "# 18. 실시간 기업 (RTE : Real Time Enterprise)\n",
    "* 가트너는 RTE를 '최신 정보를 사용해 자사의 핵심 비지니스 프로세스들의 관리와 실행 과정에서 생기는 지연 사태를 지속해서 제거함으로써 경쟁하는 기업' 으로 정의"
   ]
  },
  {
   "cell_type": "markdown",
   "id": "8867f8a0-05b1-4b52-b9a3-fec0b084c287",
   "metadata": {},
   "source": [
    "# 19. ERP 와 BI\n",
    "* ① ERP \n",
    "    * 제조업을 포함한 다양한 비지니스 분야에서 생산, 구매, 재고, 주문, 공급자와의 거래, 고객서비스 제공들 주요 프로세스 관리를 돕는 여러 모듈로 구성된 통합 솔루션 </br></br>\n",
    "* ② BI(Business Intelligence)\n",
    "    * 데이터 기반 의사 결정을 지원하기위한 리포트 중심의 도구 </br></br>\n",
    "* ③ BA (Business Analytics)\n",
    "    * 소프트 웨어로 데이터를 분석해 미래를 예측하거나(예측분석). 특정 접근법을 적용했을 때 발생할수있는 일을 내다보는(처방적 분석) 기술의 도움을 받는 과정\n",
    "    * 따라서 BA는 고급 분석(advanced analytics)라고도 불림\n",
    "    * 의사결정을 위한 통계적이고 수학적인 분석에 초점\n",
    "\n",
    "#### 출제유형\n",
    "* ERP정의, BI와 BA개념 구분 출제"
   ]
  },
  {
   "cell_type": "markdown",
   "id": "8fc31536-f76f-4735-9a0a-ef595f2a0fbd",
   "metadata": {},
   "source": [
    "# 20. 기타 기업내부 데이터베이스 솔루션\n",
    "* ① EAI (Enterprise Architecture Intergration)\n",
    "    *  기업 애플리케이션 통합\n",
    "    *  기업내의 ERP(전사적 자원관리), CRM(고객 관계 관리), SCM(공급망 계획) 시스템이나 인트라넷 등의 시스템 간에 상호 연동이 가능하도록 통합하는 솔루션</br></br>\n",
    "* ② EDW(Enterprise Data Warehouse)\n",
    "    * 기존 DW(data warehouse)를 전사적으로 확장한 모델인 동시에 BPR 과 CRM, BSC 같은 다양한 분석 애츨리케이션 들을 위한 원천이 됨\n",
    "    * 따라서 EDW를 구축하는 것은 단순히 정보를 빠르게 전달하는 대형 시스템을 도입한다는 의미가 아니라  기업 리소스의 유기적 통합, 다원화된 관리체계 정비, 데이터의 중복 방지 등을 위해 시스템을 재설계 하는 것</br></br>"
   ]
  },
  {
   "cell_type": "code",
   "execution_count": null,
   "id": "42af27a1-c907-4ee0-9966-d3d95a32c06c",
   "metadata": {},
   "outputs": [],
   "source": []
  }
 ],
 "metadata": {
  "kernelspec": {
   "display_name": "Python 3 (ipykernel)",
   "language": "python",
   "name": "python3"
  },
  "language_info": {
   "codemirror_mode": {
    "name": "ipython",
    "version": 3
   },
   "file_extension": ".py",
   "mimetype": "text/x-python",
   "name": "python",
   "nbconvert_exporter": "python",
   "pygments_lexer": "ipython3",
   "version": "3.8.19"
  }
 },
 "nbformat": 4,
 "nbformat_minor": 5
}
