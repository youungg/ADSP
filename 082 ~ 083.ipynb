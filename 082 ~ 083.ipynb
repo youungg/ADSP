{
 "cells": [
  {
   "cell_type": "markdown",
   "id": "507f7a2a-a01a-4952-9691-ac90a9284d11",
   "metadata": {},
   "source": [
    "# 82.분석 프로젝트 관리방안\n",
    "* 과제 형태로 도출된 분석 기회는 프로젝트를 통해서 그 가치를 증명하고 목표를 달성해야 한다.\n",
    "* 분석 프로젝트는 다른 프로젝트 유형처럼 범위, 일정, 품질, 리스크, 의사소통 등 영역별 관리가 수행되어야 할 뿐 아니라 다양한 데이터에 기반한 분석기법을 적용하기 때문에 5가지 주요 속성을 고려하여 추가적인 관리가 필요\n",
    "\n",
    "* ① 데이터 크기</br></br>\n",
    "* ② 데이터 복잡성\n",
    "    *  BI 프로젝트처럼 정형 데이터가 분석 마트로 구성되어 있는 상태에서 분석하는 것과 달리 비정형, 반정형 데이터가 존재할 경우 데이터 확보 뿐만 아니라 분석 모델의 선정 등에 대한 사전 고려가 필요</br></br>\n",
    " \n",
    "* ③  speed</br></br>\n",
    "* ④  Analytic Complexity\n",
    "    * 분석 모델의 정확도와 복잡도. 분석 모델이 복잡할수록 정확도는 올라가지만 해석이 어려워지는 단점이 존재하므로 이에 관한 기준점을 사전에 정의해야 한다.</br></br>\n",
    "* ⑤ Accuracy & Precision\n",
    "    *  Accuracy는 모델과 실제 값 차이가 적다는 정확도를 의미하고 Precision은 모델을 지속적으로 반복했을 때 편차의 수준으로써 일관적으로 동일한 결과 제시한다는 것을 의미.\n",
    "    * 분석의 활용측면에서는 Accuracy가 중요, 안정성 측면에서는 Precision이 중요하다.\n",
    "    *  이 둘의 관계는 트레이드 오프 관계로 모델의 해석 및 적용 시 사전에 고려해야 한다.</br></br>\n",
    " \n",
    "* → 분석 프로젝트는 도출된 결과의 재해석을 통한 지속적인 반복 및 정교화가 수행되는 경우가 대부분이므로 프로토타이핑 방식의 애자일(Agile) 프로젝트 관리방식에 대한 고려도 필요\n",
    "\n",
    "#### 출제유형\n",
    "* 분석프로젝트 5가지 속성 객관형 및 단답형 문제로 출제"
   ]
  },
  {
   "cell_type": "markdown",
   "id": "4ee2c55f-f659-43eb-9997-042b9981be6b",
   "metadata": {},
   "source": [
    "# 83.분석 프로젝트 영역별 주요 관리 항목\n",
    "* ① 범위(Scope) </br></br>\n",
    "* ② 시간(Time)\n",
    "    * 데이터 분석 프로젝트는 초기에 의도했던 결과가 나오기 쉽지 않기 때문에 시간이 소요 \n",
    "될 수 있\n",
    "    * 그래서 품질을 보장한다는 전제하에 타임 박싱 기법으로 일정관리를 진행한다. (철저한 \n",
    "통제가 아니다.</br></br>\n",
    " \n",
    "* ③ 원가(Cost)</br></br>\n",
    "* ④ 품질(Quality)\n",
    "    * 프로젝트 품질은 QC와 QA로 나누어 수행</br></br>\n",
    " \n",
    "* ⑤ 통합(Integration)</br></br>\n",
    "* ⑥ 조달(Procurement)\n",
    "    * 프로젝트 목적성에 맞는 외부 아웃소싱 운영)음"
   ]
  },
  {
   "cell_type": "code",
   "execution_count": null,
   "id": "fd20d391-bd40-49ee-a6ff-3c0096b2a627",
   "metadata": {},
   "outputs": [],
   "source": []
  }
 ],
 "metadata": {
  "kernelspec": {
   "display_name": "Python 3 (ipykernel)",
   "language": "python",
   "name": "python3"
  },
  "language_info": {
   "codemirror_mode": {
    "name": "ipython",
    "version": 3
   },
   "file_extension": ".py",
   "mimetype": "text/x-python",
   "name": "python",
   "nbconvert_exporter": "python",
   "pygments_lexer": "ipython3",
   "version": "3.8.19"
  }
 },
 "nbformat": 4,
 "nbformat_minor": 5
}
