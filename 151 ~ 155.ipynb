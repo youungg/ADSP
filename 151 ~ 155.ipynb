{
 "cells": [
  {
   "cell_type": "markdown",
   "id": "ce1e8ead-d9dc-4b17-8d28-89871ff8c805",
   "metadata": {},
   "source": [
    "# 151.혼동행렬(오분류표, Confusion matrix)\n",
    "* 오분류표는 목표변수의 실제 범주와 모형에 의해 예측된 분류 범주 사이의 관계를 나타내는 교차표 형태로 정리한 행렬이다.\n",
    "\n",
    "|평가지표|계산식|설명|\n",
    "|:-:|:-:|:-|\n",
    "|정분류율 (Accuracy)|$TP+TN \\over TP+TN+FP+FN$|• 실제 분류 범주를 정확하게 예측한 비율|\n",
    "|오분류율 (Error Rate)|$FP+FN \\over TP+TN+FP+FN$|• 실제 분류 범주를 잘못 분류한 비율 </BR>(오분류율)=1-(정확도)|\n",
    "|민감도 (Sensitivity)</BR>=Recall(재현율)|$TP \\over TP+FN$|• 참 긍정률(TP Rate)이라 고도 불림</BR>• 범주의 불균형 문제에 사용되는 지표|\n",
    "|특이도 (Specificity)|$TN \\over TN+FP$|• 실제로 'Negative'인 범주 중에서 'Negative'로 올바르게 예측(TN) 한 비율 </br>• 범주의 불균형 문제에 사용되는 지표|\n",
    "|FP Rate|$FP \\over TN+FP$|• 실제로 'Negative'인 범주 중에서 'Positive'로 잘못 예측(FP)한 비율 </BR>• FP Rate=1-(특이도)|\n",
    "|정밀도 (Precision)|$TP \\over TP+FP$|• 'Positive'로 예측한 비율 중에서 실제로 'Positive'(TP)인 비율|\n",
    "|$F1$|$2 \\times Precision \\times Recall \\over Precision + Recall$|• 정밀도와 민감도(재현율)를 하나로 합한 성능평가 지표 </BR>• 0~1 사이의 범위를 가짐 </BR>• 정밀도와 민감도 양쪽이 모두 클 때 F1-Score 큰 값을 가짐|\n",
    "|$F_\\beta$|$(1+B^2) \\times Precision \\times Recall \\over B²\\times Precision + Recall$|• 정확도와 재현율의 조화평균이 F1지표</BR>• Fẞ지표에서의 양수로 ẞ의 값만큼 재현율에 가중치 주어 평균</BR>• F2는 재현율에 정확도의 2배만큼 가중치 부여|\n",
    "|카파 통계량| $ K = {Pr(a) - Pr(e)  \\over 1-Pr(e)}$ |• 두 관찰자가 측정한 범 주 값에 대한 일치도를 측정 하는 방법 </BR>• 0~1의 값을 가지며 1에 가까울수록 모델의 예측값과 실제값이 정확히 일치하며, 0에 가까울 수록 모델의 예측값과 실제값이 불일치|\n",
    "\n",
    "</BR></BR>\n",
    "#### 출제유형\n",
    "* 혼동행렬은 데이터분석 파트에서 가장 중요한 부분입니다.\n",
    "* 모든 지표가 출제 예상"
   ]
  },
  {
   "cell_type": "markdown",
   "id": "0265963d-4e7a-4f9c-b175-cbbc88cf13c3",
   "metadata": {},
   "source": [
    "# 152.이익도표와 향상도\n",
    "* 이익(Gain)은 목표 범주에 속하는 개체들이 각 등급에 얼마나 분포하고 있는지를 나타내는 값으로, 해당 등급에 따라 계산된 이익값을 누적으로 연결한 도표가 이익도표이다.\n",
    "* 즉 분류분석 모형을 사용하여 분류된 관측치가 각 등급별로 얼마나 포함되는지를 나타내는 도표\n",
    "* 향상도 곡선(Lift curve)은 랜덤모델과 비교하여 해당 모델의 성과가 얼마나 향상되었는지를 각 등급별로 파악하는 그래프이다.\n",
    "#### 출제유형\n",
    "* 이익도표와 향상도 곡선 정의 단답형 출제"
   ]
  },
  {
   "cell_type": "markdown",
   "id": "59443b3b-dc01-4806-bbfb-fc3a0e1af30b",
   "metadata": {},
   "source": [
    "# 153.로지스틱 회귀분석\n",
    "* 로지스틱(Logistic) 회귀모형이라고 부르기도 하고 일반화선형모형 (GLM, Generalized Linear Model)의 이항분포를 따르는 모형의 일부로 해석하기도 한다.\n",
    "* ① 이항회귀모형(로지스틱) 통계모형은 아래와 같다.\n",
    "    * $E(Yi) = pi = {exp(β_0 + β_1x) \\over 1+exp(β_0 + β_1x)}$ \n",
    "* ② 선형회귀 모형과 차이점\n",
    "    * 이항(이진) 데이터에 적용하였을 때 종속변수 y의 결과가 범위 [0,1]로 제한\n",
    "    * 모형탐색으로 최대우도추정법을 이용한다.\n",
    "    * 유의성 검정으로 카이제곱분포를 이용한다.\n",
    "* ③ 로짓변환이란\n",
    "    * 로지스틱 회귀모형은 적절한 변환을 통해서 곡선을 직 선형태로 변환할 수 있다.\n",
    "    * 즉 로지스틱 회귀모형에 로그와 오즈변환을 로짓변환 이라 하면 이 함수적 변환을 통해서 선형회귀와 같이 직관적 해석이 가능해진다.\n",
    "* ④ 로지스틱 회귀계수의 부호가 갖는 의미와 해석\n",
    "    * 단순 로지스틱인 경우 로지스틱 회귀계수 β1이 0보다 큰 경우에는 S자 모양, β1이 0보다 작은 경우에는 역 자 모양을 가진다.\n",
    "    * x를 1단위 증가시키게 되면 오즈의 예측값은 exp(β1) 만큼 곱해지게 된다.\n",
    "#### 출제유형\n",
    "* 로짓변환의 정의 및 선형회귀분석과 차이점이 출제"
   ]
  },
  {
   "cell_type": "markdown",
   "id": "ff08e3c3-e4c8-4a8e-ad4c-f47eae6358f1",
   "metadata": {},
   "source": [
    "# 154.의사결정나무 특징\n",
    "* ① 비모수적 방법\n",
    "* ② 설명 및 해석이 쉽다.\n",
    "* ③ 잡음 데이터에 민감하지 않다.\n",
    "* ④ 변수의 교호작용 파악\n",
    "#### 출제유형\n",
    "* 노이즈 민감하다(X).\n",
    "* 인과관계를 규명한다.(X)\n"
   ]
  },
  {
   "cell_type": "markdown",
   "id": "3ad7fd2b-fa59-45f4-bdd3-07a330a6d5c0",
   "metadata": {},
   "source": [
    "# 155.의사결정나무 불순도 측도\n",
    "|평가지표|공식|설명|\n",
    "|:-:|:-:|:-|\n",
    "|카이제곱 통계량|$χ^2  = \\underset{i=1}{\\overset{k}{\\sum}} {{(E_i - O_i)^2} \\over E_i}$ </BR>(k : 범주의 수, O : 실제도수, E : 기대도수)|• 데이터의 분포와 사용자가 선택한 기대 또는 가정된 분포 사이의 차이를 나타 내는 측정값|\n",
    "|지니 지수|$Gini(T) = \\underset{l=1}{\\overset {k}{\\sum}} Ρ_l^2 $ </BR> $Ρ_l^2$ : T 영역에 속하는 레코드 가운데 l 범주에 속하는 레코드의 비율|• 지니 지수의 값이 클수록 이질적(Diversity)이며 순수도(Purity)가 낮다고 볼 수 있음|\n",
    "|엔트로피 지수|$Entropy(T) = -(\\underset{l=1}{\\overset {k}{\\sum}}Ρ_l log_2 P_l^2)$ </BR> $Ρ_l^2$ : T 영역에 속하는 레코드 가운데 l 범주에 속하는 레코드의 비율|• 열역학에서 쓰는 개념으로 무질서 정도에 대한 측도 </BR>• 엔트로피 지수의 값이 클수록 순수도 (Purity)가 낮다고 볼 수 있음|\n",
    "\n",
    "</BR></BR>\n",
    "#### 출제유형\n",
    "* 불순도를 측정하는 측도 종류와 지니지수 측정값이 문제로 출제"
   ]
  }
 ],
 "metadata": {
  "kernelspec": {
   "display_name": "Python 3 (ipykernel)",
   "language": "python",
   "name": "python3"
  },
  "language_info": {
   "codemirror_mode": {
    "name": "ipython",
    "version": 3
   },
   "file_extension": ".py",
   "mimetype": "text/x-python",
   "name": "python",
   "nbconvert_exporter": "python",
   "pygments_lexer": "ipython3",
   "version": "3.8.19"
  }
 },
 "nbformat": 4,
 "nbformat_minor": 5
}
